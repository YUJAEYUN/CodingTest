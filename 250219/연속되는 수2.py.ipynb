{
 "cells": [
  {
   "cell_type": "code",
   "execution_count": null,
   "metadata": {},
   "outputs": [],
   "source": [
    "n = int(input())\n",
    "arr = [int(input()) for _ in range(n)]\n",
    "\n",
    "cnt=1\n",
    "counter = 1\n",
    "# Write your code here!\n",
    "for i in range(len(arr)-1):\n",
    "    if arr[i] == arr[i+1]:\n",
    "        cnt+=1\n",
    "    else:\n",
    "        cnt = 1\n",
    "    counter = max(counter, cnt)\n",
    "print(counter)"
   ]
  }
 ],
 "metadata": {
  "language_info": {
   "name": "python"
  }
 },
 "nbformat": 4,
 "nbformat_minor": 2
}
